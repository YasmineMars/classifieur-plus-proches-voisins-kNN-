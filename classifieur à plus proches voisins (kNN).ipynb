{
 "cells": [
  {
   "cell_type": "markdown",
   "metadata": {
    "id": "0DmjuNem6b2f"
   },
   "source": [
    "# Master M3IR\n",
    "# Etude du classifieur à plus proches voisins (kNN)\n",
    "\n",
    "\n"
   ]
  },
  {
   "cell_type": "code",
   "execution_count": 1,
   "metadata": {
    "id": "XGQFdb606b2m"
   },
   "outputs": [],
   "source": [
    "# Initialisations\n",
    "%matplotlib inline\n",
    "\n",
    "import matplotlib.pyplot as plt\n",
    "import numpy as np\n",
    "import scipy\n",
    "from sklearn import datasets\n",
    "\n",
    "from sklearn.neighbors import KNeighborsClassifier"
   ]
  },
  {
   "cell_type": "code",
   "execution_count": 2,
   "metadata": {
    "colab": {
     "base_uri": "https://localhost:8080/"
    },
    "id": "F1YPINP36b2n",
    "outputId": "12aac441-0143-4649-8660-88eedccbfdbb"
   },
   "outputs": [
    {
     "name": "stdout",
     "output_type": "stream",
     "text": [
      "Données chargées, dimensions  (1797, 64)\n",
      "Classes:  (array([0, 1, 2, 3, 4, 5, 6, 7, 8, 9]), array([178, 182, 177, 183, 181, 182, 181, 179, 174, 180], dtype=int64))\n"
     ]
    }
   ],
   "source": [
    "# Les données: chiffres\n",
    "from sklearn.datasets import load_digits\n",
    "digits = load_digits()\n",
    "X = digits.data\n",
    "Y = digits.target\n",
    "print('Données chargées, dimensions ', digits.data.shape)\n",
    "# affiche les classes et le nombre d'exemples dans chacune\n",
    "print('Classes: ', np.unique(Y, return_counts=True)) "
   ]
  },
  {
   "cell_type": "code",
   "execution_count": 3,
   "metadata": {
    "colab": {
     "base_uri": "https://localhost:8080/",
     "height": 283
    },
    "id": "kg3MfxQ96b2o",
    "outputId": "5d8b6a77-9a05-4235-e0c9-4910508115ea"
   },
   "outputs": [
    {
     "data": {
      "image/png": "[encoded data removed]",
      "text/plain": [
       "<Figure size 1440x288 with 5 Axes>"
      ]
     },
     "metadata": {
      "needs_background": "light"
     },
     "output_type": "display_data"
    }
   ],
   "source": [
    "# Affichage de quelques exemples:\n",
    "plt.figure(figsize=(20,4))\n",
    "for index, (image, label) in enumerate(zip(digits.data[0:5], digits.target[0:5])):\n",
    "    plt.subplot(1, 5, index + 1)\n",
    "    plt.imshow(np.reshape(image, (8,8)), cmap=plt.cm.gray)\n",
    "    plt.title('Exemple %i\\n' % label, fontsize = 20)"
   ]
  },
  {
   "cell_type": "code",
   "execution_count": 4,
   "metadata": {
    "colab": {
     "base_uri": "https://localhost:8080/"
    },
    "id": "Cc_0k-aK6b2p",
    "outputId": "11cfd5b7-2932-4016-b304-b381bdd795b7"
   },
   "outputs": [
    {
     "name": "stdout",
     "output_type": "stream",
     "text": [
      "1347 exemples en apprentissage et 450 en test.\n"
     ]
    }
   ],
   "source": [
    "# Séparation des données en ensembles d'apprentissage (X_train, Y_train) \n",
    "#  et de test (X_test, Y_test)\n",
    "\n",
    "test_size = 0.25 # proportion d'exemples utilisés pour le test\n",
    "i = int(X.shape[0] * (1-test_size))\n",
    "\n",
    "X_train = X[:i]\n",
    "Y_train = Y[:i]\n",
    "X_test = X[i:]\n",
    "Y_test = Y[i:]\n",
    "print( i, 'exemples en apprentissage et', len(Y_test), 'en test.')\n",
    "\n",
    "# Ici on prend juste le début, la fonction sklearn.model_selection.train_test_split\n",
    "# est plus intéressante (on la verra plus tard)\n"
   ]
  },
  {
   "cell_type": "code",
   "execution_count": 5,
   "metadata": {
    "colab": {
     "base_uri": "https://localhost:8080/"
    },
    "id": "8FGlx4bj6b2p",
    "outputId": "1b71ed9c-f7c8-4e5b-c711-2382d42842f7"
   },
   "outputs": [
    {
     "data": {
      "text/plain": [
       "KNeighborsClassifier(n_neighbors=3)"
      ]
     },
     "execution_count": 5,
     "metadata": {},
     "output_type": "execute_result"
    }
   ],
   "source": [
    "# Le modèle:\n",
    "K = 3\n",
    "\n",
    "model = KNeighborsClassifier(n_neighbors=K)\n",
    "\n",
    "# Apprentissage:\n",
    "model.fit(X_train, Y_train)"
   ]
  },
  {
   "cell_type": "code",
   "execution_count": 6,
   "metadata": {
    "colab": {
     "base_uri": "https://localhost:8080/"
    },
    "id": "HYyDdwNw6b2p",
    "outputId": "44d599a9-3d51-4b9a-eb97-c5b1c75e68c9"
   },
   "outputs": [
    {
     "name": "stdout",
     "output_type": "stream",
     "text": [
      "10 premiers exemples de test:\n",
      "Classes vraies : [3 7 3 3 4 6 6 6 4 9 1 5]\n",
      "Classes prévues: [3 7 3 3 4 6 6 6 4 9 1 5]\n",
      "Précision: 0.9711111111111111\n"
     ]
    }
   ],
   "source": [
    "# Test du modèle\n",
    "Y_train_pred = model.predict(X_train)\n",
    "Y_test_pred = model.predict(X_test)\n",
    "\n",
    "print('10 premiers exemples de test:')\n",
    "print('Classes vraies :', Y_test[:12])\n",
    "print('Classes prévues:', Y_test_pred[:12])\n",
    "\n",
    "# Calcul du taux d'erreur\n",
    "from sklearn import metrics\n",
    "print(\"Précision:\",metrics.accuracy_score(Y_test, Y_test_pred))"
   ]
  },
  {
   "cell_type": "code",
   "execution_count": 7,
   "metadata": {
    "colab": {
     "base_uri": "https://localhost:8080/"
    },
    "id": "wcA9jObw6b2q",
    "outputId": "3e731d42-3f98-4ad6-f8fc-e4f5014fa87f"
   },
   "outputs": [
    {
     "name": "stdout",
     "output_type": "stream",
     "text": [
      "Erreurs sur l'ensemble de test: [ 14 206 235 258 259 264 281 311 313 315 380 418 443]\n",
      "Nombre d'erreurs: 13 Précision 97.11111111111111 %\n"
     ]
    }
   ],
   "source": [
    "errors = np.where( Y_test != Y_test_pred )[0]\n",
    "print('Erreurs sur l\\'ensemble de test:', errors)\n",
    "nb_err = len(errors)\n",
    "accuracy = (len(Y_test) - nb_err)/len(Y_test)\n",
    "print('Nombre d\\'erreurs:', nb_err, 'Précision', 100*accuracy, '%')"
   ]
  },
  {
   "cell_type": "code",
   "execution_count": 8,
   "metadata": {
    "colab": {
     "base_uri": "https://localhost:8080/",
     "height": 283
    },
    "id": "iPEWk88u6b2q",
    "outputId": "aed7743d-5976-4c8b-f1ce-d0386425dca0"
   },
   "outputs": [
    {
     "data": {
      "image/png": "[encoded data removed]",
      "text/plain": [
       "<Figure size 1440x288 with 5 Axes>"
      ]
     },
     "metadata": {
      "needs_background": "light"
     },
     "output_type": "display_data"
    }
   ],
   "source": [
    "# Affiche les 5 premières erreurs:\n",
    "plt.figure(figsize=(20,4))\n",
    "i = 1\n",
    "for index in errors[:5]:\n",
    "    img = X_test[index]\n",
    "    label = Y_test[index]\n",
    "    plt.subplot(1, 5, i)\n",
    "    plt.imshow(np.reshape(img, (8,8)), cmap=plt.cm.gray)\n",
    "    plt.title('%d (=%d)\\n' % (label, Y_test_pred[index]), fontsize = 20)\n",
    "    i += 1"
   ]
  },
  {
   "cell_type": "code",
   "execution_count": 9,
   "metadata": {
    "colab": {
     "base_uri": "https://localhost:8080/"
    },
    "id": "2opbGKTk6b2r",
    "outputId": "f8987277-6ca7-443f-ce51-04103aa9c31e"
   },
   "outputs": [
    {
     "name": "stdout",
     "output_type": "stream",
     "text": [
      "k= 1 err=3.8%\n",
      "k= 2 err=3.8%\n",
      "k= 3 err=2.9%\n",
      "k= 4 err=3.1%\n",
      "k= 5 err=3.6%\n",
      "k= 6 err=4.2%\n",
      "k= 7 err=4.4%\n",
      "k= 8 err=4.4%\n"
     ]
    }
   ],
   "source": [
    "# Erreur en fonction de k\n",
    "\n",
    "error = []\n",
    "\n",
    "# Calcul de la valeur d'erreur pour les valeurs K entre 1 et 9\n",
    "for i in range(1, 9):\n",
    "    model = KNeighborsClassifier(n_neighbors=i)\n",
    "    model.fit(X_train, Y_train)\n",
    "    # Test du modèle\n",
    "    pred_i = model.predict(X_test)\n",
    "    error_val=np.mean(pred_i != Y_test)\n",
    "    error.append(round(error_val, 3) * 100)\n",
    "\n",
    "for i in range(0, 8):\n",
    "  print(\"k=\",i+1,\"err={0:.1f}%\".format(error[i]))"
   ]
  },
  {
   "cell_type": "code",
   "execution_count": 10,
   "metadata": {
    "colab": {
     "base_uri": "https://localhost:8080/",
     "height": 421
    },
    "id": "p6bGxj8OFMab",
    "outputId": "23dbe6e9-cf65-4c8c-93ef-a59035c1ec62"
   },
   "outputs": [
    {
     "data": {
      "text/plain": [
       "Text(0, 0.5, 'Erreur %')"
      ]
     },
     "execution_count": 10,
     "metadata": {},
     "output_type": "execute_result"
    },
    {
     "data": {
      "image/png": "[encoded data removed]",
      "text/plain": [
       "<Figure size 648x432 with 1 Axes>"
      ]
     },
     "metadata": {
      "needs_background": "light"
     },
     "output_type": "display_data"
    }
   ],
   "source": [
    "# Graphique montrant l'erreur en fonction de k\n",
    "plt.figure(figsize=(9, 6))\n",
    "plt.plot(range(1, 9), error, color='blue', linestyle='dashed', marker='o',\n",
    "         markerfacecolor='blue', markersize=10)\n",
    "plt.grid()\n",
    "plt.title('Erreur KNN en fct de k')\n",
    "plt.xlabel('k')\n",
    "plt.ylabel('Erreur %')"
   ]
  },
  {
   "cell_type": "code",
   "execution_count": null,
   "metadata": {},
   "outputs": [],
   "source": []
  }
 ],
 "metadata": {
  "colab": {
   "collapsed_sections": [],
   "name": "Copie de TP1-exo2-live.ipynb",
   "provenance": []
  },
  "kernelspec": {
   "display_name": "Python 3",
   "language": "python",
   "name": "python3"
  },
  "language_info": {
   "codemirror_mode": {
    "name": "ipython",
    "version": 3
   },
   "file_extension": ".py",
   "mimetype": "text/x-python",
   "name": "python",
   "nbconvert_exporter": "python",
   "pygments_lexer": "ipython3",
   "version": "3.8.3"
  }
 },
 "nbformat": 4,
 "nbformat_minor": 1
}
